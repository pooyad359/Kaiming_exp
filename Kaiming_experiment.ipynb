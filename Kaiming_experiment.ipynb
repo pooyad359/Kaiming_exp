{
 "cells": [
  {
   "cell_type": "code",
   "execution_count": 1,
   "metadata": {},
   "outputs": [],
   "source": [
    "import numpy as np\n",
    "import matplotlib.pyplot as plt"
   ]
  },
  {
   "cell_type": "code",
   "execution_count": 2,
   "metadata": {},
   "outputs": [],
   "source": [
    "a=100\n",
    "b=200\n",
    "c=300\n",
    "x=np.random.randn(b,b)\n",
    "y=np.random.randn(b,b)"
   ]
  },
  {
   "cell_type": "code",
   "execution_count": 3,
   "metadata": {},
   "outputs": [],
   "source": [
    "z=np.matmul(x,y)"
   ]
  },
  {
   "cell_type": "code",
   "execution_count": 4,
   "metadata": {},
   "outputs": [
    {
     "data": {
      "text/plain": [
       "0.9973937134360732"
      ]
     },
     "execution_count": 4,
     "metadata": {},
     "output_type": "execute_result"
    }
   ],
   "source": [
    "z.std()/np.sqrt(b)"
   ]
  },
  {
   "cell_type": "code",
   "execution_count": 5,
   "metadata": {},
   "outputs": [],
   "source": [
    "z[z<0]=0"
   ]
  },
  {
   "cell_type": "code",
   "execution_count": 6,
   "metadata": {},
   "outputs": [
    {
     "data": {
      "text/plain": [
       "0.5853602589374703"
      ]
     },
     "execution_count": 6,
     "metadata": {},
     "output_type": "execute_result"
    }
   ],
   "source": [
    "z.std()/np.sqrt(b)"
   ]
  },
  {
   "cell_type": "code",
   "execution_count": 7,
   "metadata": {},
   "outputs": [
    {
     "name": "stdout",
     "output_type": "stream",
     "text": [
      "-0.0036798545378291594 1.000687091923648\n",
      "0.3978507145441989 0.5836702173895493\n",
      "0.5836702173895493\n",
      "0.3978507145441989\n"
     ]
    }
   ],
   "source": [
    "a=100\n",
    "b=200\n",
    "c=300\n",
    "w=np.random.randn(a,b)/np.sqrt(b)#*q3*4\n",
    "x=np.random.randn(b,c)\n",
    "z=np.matmul(w,x)\n",
    "# z.std()/np.sqrt(b)\n",
    "print(z.mean(),z.std())\n",
    "z[z<0]=0\n",
    "print(z.mean(),z.std())\n",
    "val=np.sqrt(2*np.pi)\n",
    "print(z.std())\n",
    "print(z.mean())"
   ]
  },
  {
   "cell_type": "code",
   "execution_count": 8,
   "metadata": {},
   "outputs": [
    {
     "data": {
      "text/plain": [
       "(2.5066282746310002, 0.3989422804014327)"
      ]
     },
     "execution_count": 8,
     "metadata": {},
     "output_type": "execute_result"
    }
   ],
   "source": [
    "val,1/val"
   ]
  },
  {
   "cell_type": "code",
   "execution_count": 10,
   "metadata": {},
   "outputs": [
    {
     "data": {
      "text/plain": [
       "0.5803906486496808"
      ]
     },
     "execution_count": 10,
     "metadata": {},
     "output_type": "execute_result"
    }
   ],
   "source": [
    "pi=np.pi\n",
    "q2=(2*pi-3)/(4*np.sqrt(2))\n",
    "q2"
   ]
  },
  {
   "cell_type": "code",
   "execution_count": 467,
   "metadata": {},
   "outputs": [
    {
     "data": {
      "text/plain": [
       "1.7229774503200035"
      ]
     },
     "execution_count": 467,
     "metadata": {},
     "output_type": "execute_result"
    }
   ],
   "source": [
    "1/q2"
   ]
  },
  {
   "cell_type": "markdown",
   "metadata": {},
   "source": [
    "### what happens when a normally distributed variable passes through relu and then multiplied by another normally distributed variable?"
   ]
  },
  {
   "cell_type": "code",
   "execution_count": 138,
   "metadata": {},
   "outputs": [],
   "source": [
    "z=np.random.randn(100,200)\n",
    "z[z<0]=0"
   ]
  },
  {
   "cell_type": "code",
   "execution_count": 139,
   "metadata": {
    "scrolled": true
   },
   "outputs": [
    {
     "data": {
      "image/png": "[encoded data removed]",
      "text/plain": [
       "<matplotlib.figure.Figure at 0x93055f8>"
      ]
     },
     "metadata": {},
     "output_type": "display_data"
    }
   ],
   "source": [
    "z[z<0]=0\n",
    "plt.hist(z.flatten(),bins=100);"
   ]
  },
  {
   "cell_type": "code",
   "execution_count": 144,
   "metadata": {},
   "outputs": [],
   "source": [
    "relu = lambda x: np.clip(x,0,None)"
   ]
  },
  {
   "cell_type": "code",
   "execution_count": 170,
   "metadata": {},
   "outputs": [],
   "source": [
    "z=np.random.randn(200,200)"
   ]
  },
  {
   "cell_type": "code",
   "execution_count": 247,
   "metadata": {},
   "outputs": [],
   "source": [
    "z=np.random.randn(200,200)\n",
    "# z=relu(z)"
   ]
  },
  {
   "cell_type": "code",
   "execution_count": 240,
   "metadata": {},
   "outputs": [
    {
     "data": {
      "text/plain": [
       "(1.7229774503200035, 1.4142135623730951)"
      ]
     },
     "execution_count": 240,
     "metadata": {},
     "output_type": "execute_result"
    }
   ],
   "source": [
    "1/q2,np.sqrt(2)"
   ]
  },
  {
   "cell_type": "code",
   "execution_count": 265,
   "metadata": {
    "scrolled": true
   },
   "outputs": [
    {
     "name": "stdout",
     "output_type": "stream",
     "text": [
      "-0.06905698395511527 1.6640884682778292\n",
      "0.6045213839832111 0.9266955798709324\n"
     ]
    },
    {
     "data": {
      "image/png": "[encoded data removed]",
      "text/plain": [
       "<matplotlib.figure.Figure at 0x9bf8ba8>"
      ]
     },
     "metadata": {},
     "output_type": "display_data"
    }
   ],
   "source": [
    "\n",
    "\n",
    "# w=np.random.randn(200,200)/np.sqrt(200)/q2\n",
    "w=np.random.randn(200,200)/np.sqrt(200)*np.sqrt(2)\n",
    "z=np.matmul(z,w)\n",
    "plt.hist(z.flatten(),bins=100);\n",
    "print(z.mean(),z.std())\n",
    "z=relu(z)\n",
    "print(z.mean(),z.std())"
   ]
  },
  {
   "cell_type": "code",
   "execution_count": null,
   "metadata": {},
   "outputs": [],
   "source": []
  },
  {
   "cell_type": "code",
   "execution_count": null,
   "metadata": {},
   "outputs": [],
   "source": []
  },
  {
   "cell_type": "code",
   "execution_count": null,
   "metadata": {},
   "outputs": [],
   "source": []
  },
  {
   "cell_type": "code",
   "execution_count": null,
   "metadata": {},
   "outputs": [],
   "source": []
  },
  {
   "cell_type": "code",
   "execution_count": null,
   "metadata": {},
   "outputs": [],
   "source": []
  },
  {
   "cell_type": "code",
   "execution_count": 29,
   "metadata": {},
   "outputs": [
    {
     "data": {
      "text/plain": [
       "6.154194122051885"
      ]
     },
     "execution_count": 29,
     "metadata": {},
     "output_type": "execute_result"
    }
   ],
   "source": [
    "np.std(z2.sum(axis=0))/np.sqrt(b)"
   ]
  },
  {
   "cell_type": "code",
   "execution_count": 320,
   "metadata": {},
   "outputs": [
    {
     "data": {
      "text/plain": [
       "13.1326843509806"
      ]
     },
     "execution_count": 320,
     "metadata": {},
     "output_type": "execute_result"
    }
   ],
   "source": [
    "v1=np.random.randn(10000)*2\n",
    "v2=np.random.randn(10000)*3\n",
    "np.std(v1+v2)**2"
   ]
  },
  {
   "cell_type": "code",
   "execution_count": 288,
   "metadata": {},
   "outputs": [
    {
     "data": {
      "text/plain": [
       "(0.9936796579645372, 1.0011710713347282)"
      ]
     },
     "execution_count": 288,
     "metadata": {},
     "output_type": "execute_result"
    }
   ],
   "source": [
    "v1=np.random.randn(100000)*1\n",
    "v1[v1<0]=0\n",
    "v1.mean()*np.sqrt(2*np.pi),v1.std()/q2\n"
   ]
  },
  {
   "cell_type": "code",
   "execution_count": 507,
   "metadata": {},
   "outputs": [
    {
     "data": {
      "text/plain": [
       "(2.5066282746310002, 0.3989422804014327)"
      ]
     },
     "execution_count": 507,
     "metadata": {},
     "output_type": "execute_result"
    }
   ],
   "source": [
    "pi=np.pi\n",
    "q2=(2*pi-3)/(4*np.sqrt(2))\n",
    "q=np.sqrt(2*np.pi)\n",
    "q,1/q"
   ]
  },
  {
   "cell_type": "code",
   "execution_count": 508,
   "metadata": {},
   "outputs": [
    {
     "data": {
      "text/plain": [
       "(0.42981866096508226, 2.3265625502500886)"
      ]
     },
     "execution_count": 508,
     "metadata": {},
     "output_type": "execute_result"
    }
   ],
   "source": [
    "q3=np.sqrt(q2/np.pi)\n",
    "q3,1/q3"
   ]
  },
  {
   "cell_type": "code",
   "execution_count": 233,
   "metadata": {},
   "outputs": [],
   "source": [
    "import sympy as sp"
   ]
  },
  {
   "cell_type": "code",
   "execution_count": 255,
   "metadata": {},
   "outputs": [],
   "source": [
    "x=sp.symbols('x')\n",
    "m=sp.symbols('m')"
   ]
  },
  {
   "cell_type": "markdown",
   "metadata": {},
   "source": [
    "$\\mathrm{erfi}(x) = \\frac{2}{\\sqrt{\\pi}} \\int_0^x e^{t^2} \\mathrm{d}t$\n",
    "$        $\n",
    "$\\mathrm{erf}(x) = \\frac{2}{\\sqrt{\\pi}} \\int_0^x e^{-t^2} \\mathrm{d}t$\n"
   ]
  },
  {
   "cell_type": "code",
   "execution_count": 245,
   "metadata": {},
   "outputs": [],
   "source": [
    "import math"
   ]
  },
  {
   "cell_type": "code",
   "execution_count": 258,
   "metadata": {},
   "outputs": [
    {
     "data": {
      "text/plain": [
       "-1.0"
      ]
     },
     "execution_count": 258,
     "metadata": {},
     "output_type": "execute_result"
    }
   ],
   "source": [
    "math.erf(-10000)"
   ]
  },
  {
   "cell_type": "code",
   "execution_count": 256,
   "metadata": {},
   "outputs": [
    {
     "data": {
      "text/plain": [
       "sqrt(2)*sqrt(pi)*m**2*erf(sqrt(2)*x/2)/2 + 2*m*exp(-x**2/2) - x*exp(-x**2/2) + sqrt(2)*sqrt(pi)*erf(sqrt(2)*x/2)/2"
      ]
     },
     "execution_count": 256,
     "metadata": {},
     "output_type": "execute_result"
    }
   ],
   "source": [
    "sp.integrate(((x-m)**2)*sp.exp(-x**2/2),x)"
   ]
  },
  {
   "cell_type": "code",
   "execution_count": 251,
   "metadata": {},
   "outputs": [
    {
     "data": {
      "text/plain": [
       "1.25331413731550"
      ]
     },
     "execution_count": 251,
     "metadata": {},
     "output_type": "execute_result"
    }
   ],
   "source": [
    "ff.subs({'x':10000}).evalf()"
   ]
  },
  {
   "cell_type": "code",
   "execution_count": 261,
   "metadata": {},
   "outputs": [
    {
     "data": {
      "text/plain": [
       "[<matplotlib.lines.Line2D at 0x1c080d30>]"
      ]
     },
     "execution_count": 261,
     "metadata": {},
     "output_type": "execute_result"
    },
    {
     "data": {
      "image/png": "[encoded data removed]",
      "text/plain": [
       "<Figure size 432x288 with 1 Axes>"
      ]
     },
     "metadata": {
      "needs_background": "light"
     },
     "output_type": "display_data"
    }
   ],
   "source": [
    "t=np.linspace(-10,10,1000)\n",
    "y=t*np.exp(-t**2)\n",
    "plt.plot(t,y)"
   ]
  },
  {
   "cell_type": "code",
   "execution_count": 506,
   "metadata": {},
   "outputs": [
    {
     "data": {
      "text/plain": [
       "(0.5246274857383065, 1.0224229389366404)"
      ]
     },
     "execution_count": 506,
     "metadata": {},
     "output_type": "execute_result"
    }
   ],
   "source": [
    "y0=np.random.randn(10000)\n",
    "x1=copy.deepcopy(y0)\n",
    "x1[x1<0]=0\n",
    "np.mean(x1**2),np.var(y0)#/q2/q2"
   ]
  },
  {
   "cell_type": "code",
   "execution_count": 500,
   "metadata": {},
   "outputs": [
    {
     "data": {
      "text/plain": [
       "(0.49563280431327084, 1.0014261253436838)"
      ]
     },
     "execution_count": 500,
     "metadata": {},
     "output_type": "execute_result"
    }
   ],
   "source": [
    "np.mean(x1**2),np.var(y0)"
   ]
  },
  {
   "cell_type": "code",
   "execution_count": 498,
   "metadata": {},
   "outputs": [
    {
     "data": {
      "text/plain": [
       "0.9964471337218958"
      ]
     },
     "execution_count": 498,
     "metadata": {},
     "output_type": "execute_result"
    }
   ],
   "source": [
    "np.mean([x**2 for x in y0 if x>=0])"
   ]
  },
  {
   "cell_type": "code",
   "execution_count": 499,
   "metadata": {},
   "outputs": [
    {
     "data": {
      "image/png": "[encoded data removed]",
      "text/plain": [
       "<Figure size 432x288 with 1 Axes>"
      ]
     },
     "metadata": {
      "needs_background": "light"
     },
     "output_type": "display_data"
    }
   ],
   "source": [
    "plt.hist(y0,bins=100);"
   ]
  },
  {
   "cell_type": "code",
   "execution_count": 580,
   "metadata": {},
   "outputs": [
    {
     "data": {
      "text/plain": [
       "(1.7229774503200035, 0.5803906486496808)"
      ]
     },
     "execution_count": 580,
     "metadata": {},
     "output_type": "execute_result"
    }
   ],
   "source": [
    "1/q2,q2"
   ]
  },
  {
   "cell_type": "code",
   "execution_count": 494,
   "metadata": {},
   "outputs": [],
   "source": [
    "import copy"
   ]
  },
  {
   "cell_type": "code",
   "execution_count": 71,
   "metadata": {},
   "outputs": [],
   "source": [
    "def relu(x):\n",
    "    x[x<0]=0\n",
    "    return x"
   ]
  },
  {
   "cell_type": "code",
   "execution_count": 72,
   "metadata": {},
   "outputs": [
    {
     "name": "stdout",
     "output_type": "stream",
     "text": [
      "input layer1: (-0.006250630301351816, 0.9938022669118255)\n",
      "output layer1: (0.00010427944315813509, 1.7366392912659452)\n",
      "input layer2: (0.6903838893050755, 1.0104478867761244)\n",
      "output layer2: (0.10556082537143432, 1.604365859931782)\n",
      "input layer2: (0.6854022989174803, 0.978768154730932)\n",
      "output layer3: (-0.08591918381589236, 1.79520714763758)\n",
      "input layer3: (0.6477830763431892, 1.0422599095062757)\n"
     ]
    }
   ],
   "source": [
    "x=np.random.randn(100,128)\n",
    "w1=np.random.randn(128,64)*np.sqrt(1/128)/q2\n",
    "y=np.matmul(x,w1)\n",
    "print(f'input layer1: {x.mean(),x.std()}')\n",
    "print(f'output layer1: {y.mean(),y.std()}')\n",
    "z=relu(y)\n",
    "\n",
    "print(f'input layer2: {z.mean(),z.std()}')\n",
    "w2=np.random.randn(64,32)/np.sqrt(64/2)\n",
    "y=np.matmul(z,w2)\n",
    "print(f'output layer2: {y.mean(),y.std()}')\n",
    "z=relu(y)\n",
    "print(f'input layer2: {z.mean(),z.std()}')\n",
    "\n",
    "\n",
    "w3=np.random.randn(32,32)/np.sqrt(32/2)\n",
    "y=np.matmul(z,w3)\n",
    "print(f'output layer3: {y.mean(),y.std()}')\n",
    "z=relu(y)\n",
    "print(f'input layer3: {z.mean(),z.std()}')"
   ]
  },
  {
   "cell_type": "code",
   "execution_count": 77,
   "metadata": {},
   "outputs": [
    {
     "name": "stdout",
     "output_type": "stream",
     "text": [
      "output layer1: (0.008839931105119391, 1.404606057096051)\n",
      "input layer2: (0.5643444730330748, 0.819288051737394)\n",
      "output layer2: (0.07182832997129088, 1.3788210210682785)\n",
      "input layer2: (0.5803727961973366, 0.8515258799193909)\n",
      "output layer3: (-0.16962087453536714, 1.4116302667332457)\n",
      "input layer3: (0.46306388394449555, 0.832084219139301)\n"
     ]
    }
   ],
   "source": [
    "#original kaiming\n",
    "x=np.random.randn(100,128)\n",
    "w1=np.random.randn(128,64)*np.sqrt(2/128)\n",
    "y=np.matmul(x,w1)\n",
    "print(f'output layer1: {y.mean(),y.std()}')\n",
    "z=y\n",
    "z[z<0]=0\n",
    "print(f'input layer2: {z.mean(),z.std()}')\n",
    "w2=np.random.randn(64,32)*np.sqrt(2/64)\n",
    "y=np.matmul(z,w2)\n",
    "print(f'output layer2: {y.mean(),y.std()}')\n",
    "z=y\n",
    "z[z<0]=0\n",
    "print(f'input layer2: {z.mean(),z.std()}')\n",
    "\n",
    "w3=np.random.randn(32,32)*np.sqrt(2/32)\n",
    "y=np.matmul(z,w3)\n",
    "print(f'output layer3: {y.mean(),y.std()}')\n",
    "z=relu(y)\n",
    "print(f'input layer3: {z.mean(),z.std()}')"
   ]
  },
  {
   "cell_type": "code",
   "execution_count": 78,
   "metadata": {},
   "outputs": [],
   "source": [
    "def relup(x):\n",
    "    y=x\n",
    "    y[x<0]=0\n",
    "    return y-0.5"
   ]
  },
  {
   "cell_type": "code",
   "execution_count": 79,
   "metadata": {},
   "outputs": [
    {
     "name": "stdout",
     "output_type": "stream",
     "text": [
      "output layer1: (-0.040650982541321545, 1.7121263573080177)\n",
      "input layer2: (0.1668434549428881, 0.9854470042153223)\n",
      "output layer2: (0.10687585896441933, 1.4218379712473856)\n",
      "input layer2: (0.11799264361848326, 0.867056372719055)\n",
      "output layer3: (0.04798166463556978, 1.165349999413028)\n",
      "input layer3: (0.47880521739261006, 0.7104642216071423)\n"
     ]
    }
   ],
   "source": [
    "#modified kaiming\n",
    "x=np.random.randn(100,128)\n",
    "w1=np.random.randn(128,64)*np.sqrt(1/128)/q2\n",
    "y=np.matmul(x,w1)\n",
    "print(f'output layer1: {y.mean(),y.std()}')\n",
    "z=relup(y)\n",
    "\n",
    "print(f'input layer2: {z.mean(),z.std()}')\n",
    "w2=np.random.randn(64,32)*np.sqrt(2/64)\n",
    "y=np.matmul(z,w2)\n",
    "print(f'output layer2: {y.mean(),y.std()}')\n",
    "z=relup(y)\n",
    "print(f'input layer2: {z.mean(),z.std()}')\n",
    "\n",
    "w3=np.random.randn(32,32)/np.sqrt(32/2)\n",
    "y=np.matmul(z,w3)\n",
    "print(f'output layer3: {y.mean(),y.std()}')\n",
    "z=relu(y)\n",
    "print(f'input layer3: {z.mean(),z.std()}')"
   ]
  },
  {
   "cell_type": "code",
   "execution_count": 773,
   "metadata": {},
   "outputs": [],
   "source": []
  },
  {
   "cell_type": "code",
   "execution_count": 780,
   "metadata": {},
   "outputs": [
    {
     "data": {
      "text/plain": [
       "(0.34360717074400626, 0.6131091646781544)"
      ]
     },
     "execution_count": 780,
     "metadata": {},
     "output_type": "execute_result"
    }
   ],
   "source": [
    "kaiming(100)"
   ]
  },
  {
   "cell_type": "code",
   "execution_count": 81,
   "metadata": {},
   "outputs": [
    {
     "name": "stdout",
     "output_type": "stream",
     "text": [
      "layer #1  input: -0.0055271,     0.9964\n",
      "layer #1 output: -0.0019944,     1.4075\n",
      "layer #2  input:    0.55825,    0.81994\n",
      "layer #2 output:  -0.068645,     1.3836\n",
      "layer #3  input:     0.5137,     0.7847\n",
      "layer #3 output:   0.029722,     1.4019\n",
      "layer #4  input:    0.57239,    0.82422\n",
      "layer #4 output:  -0.076705,     1.4523\n",
      "layer #5  input:    0.52541,    0.76588\n",
      "layer #5 output:   0.075686,     1.4137\n",
      "layer #6  input:    0.58919,    0.83894\n",
      "layer #6 output:  -0.065097,     1.4332\n",
      "layer #7  input:    0.53527,    0.86129\n",
      "layer #7 output:   0.012364,      1.436\n",
      "layer #8  input:    0.57291,    0.84564\n",
      "layer #8 output:   -0.14666,       1.48\n",
      "layer #9  input:    0.49738,    0.81435\n",
      "layer #9 output:   0.083726,     1.3051\n",
      "layer #10  input:    0.55758,    0.77494\n",
      "layer #10 output:   0.066046,     1.3855\n"
     ]
    }
   ],
   "source": [
    "#original kaiming\n",
    "nlay=10\n",
    "nfeat=128\n",
    "x=np.random.randn(100,nfeat)\n",
    "for i in range(nlay):\n",
    "    print(f'layer #{i+1}  input: {x.mean():10.5}, {x.std():10.5}')\n",
    "    w=np.random.randn(nfeat,nfeat)*np.sqrt(2/nfeat)\n",
    "    y=np.matmul(x,w)\n",
    "    print(f'layer #{i+1} output: {y.mean():10.5}, {y.std():10.5}')\n",
    "    x=relu(y)"
   ]
  },
  {
   "cell_type": "code",
   "execution_count": 266,
   "metadata": {},
   "outputs": [],
   "source": [
    "def kaimingv1(nlay,actfun=relu,show=False):\n",
    "#     nlay=100\n",
    "    nfeat=128\n",
    "    x=np.random.randn(100,nfeat)\n",
    "    for i in range(nlay):\n",
    "        if show:\n",
    "            print(f'layer #{i+1}  input: {x.mean():10.5}, {x.std():10.5}')\n",
    "        w=np.random.randn(nfeat,nfeat)*np.sqrt(2/nfeat)\n",
    "        y=np.matmul(x,w)\n",
    "        if show:\n",
    "            print(f'layer #{i+1} output: {y.mean():10.5}, {y.std():10.5}')\n",
    "        x=actfun(y)\n",
    "    return x.mean(),x.std()"
   ]
  },
  {
   "cell_type": "code",
   "execution_count": 136,
   "metadata": {},
   "outputs": [
    {
     "name": "stdout",
     "output_type": "stream",
     "text": [
      "layer #1  input:  0.0061417,    0.99173\n",
      "layer #1 output:   0.015282,     1.7222\n",
      "layer #2  input:    0.69467,     1.0127\n",
      "layer #2 output:   -0.17952,      1.801\n",
      "layer #3  input:    0.63072,    0.98394\n",
      "layer #3 output:   -0.03642,     1.7673\n",
      "layer #4  input:    0.68299,     1.0138\n",
      "layer #4 output:   0.029449,     1.7456\n",
      "layer #5  input:     0.7031,       1.05\n",
      "layer #5 output:   0.053093,     1.8436\n"
     ]
    }
   ],
   "source": [
    "#kaiming with adjusted first layer\n",
    "nlay=5\n",
    "nfeat=128\n",
    "x=np.random.randn(100,nfeat)\n",
    "for i in range(nlay):\n",
    "    print(f'layer #{i+1}  input: {x.mean():10.5}, {x.std():10.5}')\n",
    "    if i==0:\n",
    "        w=np.random.randn(nfeat,nfeat)*np.sqrt(1/nfeat)/q2\n",
    "    else:\n",
    "        w=np.random.randn(nfeat,nfeat)*np.sqrt(2/nfeat)\n",
    "    y=np.matmul(x,w)\n",
    "    print(f'layer #{i+1} output: {y.mean():10.5}, {y.std():10.5}')\n",
    "    x=relu(y)"
   ]
  },
  {
   "cell_type": "code",
   "execution_count": 271,
   "metadata": {},
   "outputs": [],
   "source": [
    "srelu=lambda x: np.clip(x,0,None)"
   ]
  },
  {
   "cell_type": "code",
   "execution_count": 267,
   "metadata": {},
   "outputs": [],
   "source": [
    "def kaimingv2(nlay,actfun=relu,show=False):\n",
    "#     nlay=100\n",
    "    nfeat=128\n",
    "    x=np.random.randn(100,nfeat)\n",
    "    for i in range(nlay):\n",
    "        if show:\n",
    "            print(f'layer #{i+1}  input: {x.mean():10.5}, {x.std():10.5}')\n",
    "        if i==0:\n",
    "            w=np.random.randn(nfeat,nfeat)*np.sqrt(1/nfeat)/q2\n",
    "        else:\n",
    "            w=np.random.randn(nfeat,nfeat)*np.sqrt(2/nfeat)\n",
    "        y=np.matmul(x,w)\n",
    "        if show:\n",
    "            print(f'layer #{i+1} output: {y.mean():10.5}, {y.std():10.5}')\n",
    "        x=relu(y)\n",
    "    return x.mean(),x.std()"
   ]
  },
  {
   "cell_type": "code",
   "execution_count": 88,
   "metadata": {},
   "outputs": [],
   "source": [
    "def xavier(nlay,actfun=relu,show=False):\n",
    "    nlay=100\n",
    "    nfeat=128\n",
    "    x=np.random.randn(100,nfeat)\n",
    "    for i in range(nlay):\n",
    "        if show:\n",
    "            print(f'layer #{i+1}  input: {x.mean():10.5}, {x.std():10.5}')\n",
    "        w=np.random.randn(nfeat,nfeat)*np.sqrt(1/nfeat)\n",
    "        y=np.matmul(x,w)\n",
    "        if show:\n",
    "            print(f'layer #{i+1} output: {y.mean():10.5}, {y.std():10.5}')\n",
    "        x=actfun(y)\n",
    "    return x.mean(),x.std()"
   ]
  },
  {
   "cell_type": "code",
   "execution_count": 270,
   "metadata": {
    "scrolled": false
   },
   "outputs": [
    {
     "name": "stdout",
     "output_type": "stream",
     "text": [
      "layer #1  input:  -0.012307,    0.99913\n",
      "layer #1 output:  -0.014068,     1.7272\n",
      "layer #2  input:    0.68033,      1.004\n",
      "layer #2 output:   0.057561,     1.6782\n",
      "layer #3  input:    0.69568,    0.99945\n",
      "layer #3 output:   0.067991,     1.7176\n",
      "layer #4  input:    0.71327,     1.0478\n",
      "layer #4 output:   0.066608,     1.8483\n",
      "layer #5  input:    0.75853,     1.1341\n",
      "layer #5 output:    0.11044,     1.9405\n",
      "layer #6  input:     0.8218,     1.1932\n",
      "layer #6 output:     0.2676,     1.9338\n",
      "layer #7  input:    0.90698,     1.1925\n",
      "layer #7 output: -0.0094735,     2.0186\n",
      "layer #8  input:    0.79437,     1.1834\n",
      "layer #8 output:    0.16707,     2.1954\n",
      "layer #9  input:    0.97088,     1.2907\n",
      "layer #9 output:   -0.32568,     2.3182\n",
      "layer #10  input:    0.74252,     1.2987\n",
      "layer #10 output:   0.066847,     2.0544\n",
      "layer #11  input:     0.8185,     1.2577\n",
      "layer #11 output:    0.31926,     2.1722\n",
      "layer #12  input:     1.0034,     1.3607\n",
      "layer #12 output:   -0.14375,     2.5751\n",
      "layer #13  input:    0.94833,     1.5221\n",
      "layer #13 output:    0.13761,     2.5473\n",
      "layer #14  input:     1.0656,     1.4656\n",
      "layer #14 output:   -0.17536,     2.6959\n",
      "layer #15  input:    0.94262,     1.5116\n",
      "layer #15 output:  -0.030417,     2.1886\n",
      "layer #16  input:    0.85768,     1.2838\n",
      "layer #16 output:    0.17654,     2.1708\n",
      "layer #17  input:    0.93227,     1.2765\n",
      "layer #17 output:    0.28732,      2.239\n",
      "layer #18  input:     1.0366,     1.4478\n",
      "layer #18 output:   -0.35353,      2.447\n",
      "layer #19  input:    0.80435,     1.2314\n",
      "layer #19 output:  -0.099783,      1.993\n",
      "layer #20  input:    0.73027,     1.1907\n",
      "layer #20 output:  0.0067248,     1.8281\n",
      "layer #21  input:    0.69593,     1.0711\n",
      "layer #21 output:    0.24983,     1.8244\n",
      "layer #22  input:    0.84284,     1.1589\n",
      "layer #22 output: -0.0050925,     2.0918\n",
      "layer #23  input:    0.78467,     1.2425\n",
      "layer #23 output:  -0.034582,     2.0448\n",
      "layer #24  input:    0.78495,     1.2261\n",
      "layer #24 output:   -0.31507,     1.9651\n",
      "layer #25  input:    0.65054,     1.0659\n",
      "layer #25 output:    0.11404,     1.9416\n",
      "layer #26  input:    0.80937,      1.202\n",
      "layer #26 output:    0.17993,     1.9133\n",
      "layer #27  input:    0.82225,     1.1686\n",
      "layer #27 output:  0.0081523,     1.9114\n",
      "layer #28  input:    0.72989,     1.1868\n",
      "layer #28 output:  -0.046106,     1.8665\n",
      "layer #29  input:    0.69528,     1.1446\n",
      "layer #29 output:   -0.28103,     1.7808\n",
      "layer #30  input:    0.56187,    0.83495\n",
      "layer #30 output:  -0.085593,      1.315\n",
      "layer #31  input:    0.45465,    0.73088\n",
      "layer #31 output:  -0.016235,     1.1688\n",
      "layer #32  input:    0.45332,    0.66989\n",
      "layer #32 output:  -0.034213,     1.1002\n",
      "layer #33  input:    0.41101,    0.56861\n",
      "layer #33 output:   0.029066,    0.89499\n",
      "layer #34  input:    0.36054,    0.53665\n",
      "layer #34 output:    0.06991,    0.95188\n",
      "layer #35  input:    0.40317,    0.62921\n",
      "layer #35 output:   -0.15091,     1.1157\n",
      "layer #36  input:    0.36867,       0.61\n",
      "layer #36 output:   0.025468,    0.98602\n",
      "layer #37  input:    0.38724,    0.56971\n",
      "layer #37 output:    0.14205,      1.076\n",
      "layer #38  input:    0.48416,    0.72313\n",
      "layer #38 output:   0.053495,     1.2939\n",
      "layer #39  input:    0.52584,    0.79216\n",
      "layer #39 output:  -0.002413,     1.3228\n",
      "layer #40  input:     0.5231,    0.78462\n",
      "layer #40 output:  -0.046171,     1.3326\n",
      "layer #41  input:    0.49893,    0.76727\n",
      "layer #41 output:   0.030625,     1.1434\n",
      "layer #42  input:    0.46372,    0.67766\n",
      "layer #42 output:   0.029214,     1.0976\n",
      "layer #43  input:    0.45311,    0.65039\n",
      "layer #43 output:   0.025469,     1.0591\n",
      "layer #44  input:    0.42928,    0.59298\n",
      "layer #44 output:    0.15572,    0.93324\n",
      "layer #45  input:    0.44388,    0.58847\n",
      "layer #45 output:   0.050373,     0.9982\n",
      "layer #46  input:    0.41342,    0.60768\n",
      "layer #46 output:   0.040587,     1.0975\n",
      "layer #47  input:    0.44134,    0.66652\n",
      "layer #47 output:  -0.046564,     1.1465\n",
      "layer #48  input:    0.42222,    0.66921\n",
      "layer #48 output:   -0.10703,     1.0463\n",
      "layer #49  input:    0.35376,    0.54932\n",
      "layer #49 output:   0.096333,    0.91138\n",
      "layer #50  input:    0.40461,    0.53805\n",
      "layer #50 output:   -0.11278,    0.97717\n"
     ]
    },
    {
     "data": {
      "text/plain": [
       "(0.33236258431214616, 0.4982452605031038)"
      ]
     },
     "execution_count": 270,
     "metadata": {},
     "output_type": "execute_result"
    }
   ],
   "source": [
    "kaimingv2(50,show=True)"
   ]
  },
  {
   "cell_type": "code",
   "execution_count": 277,
   "metadata": {},
   "outputs": [
    {
     "name": "stderr",
     "output_type": "stream",
     "text": [
      "100%|████████████████████████████████████████| 100/100 [00:05<00:00, 18.58it/s]\n"
     ]
    },
    {
     "data": {
      "text/plain": [
       "(0, 2)"
      ]
     },
     "execution_count": 277,
     "metadata": {},
     "output_type": "execute_result"
    },
    {
     "data": {
      "image/png": "[encoded data removed]",
      "text/plain": [
       "<matplotlib.figure.Figure at 0x9305b38>"
      ]
     },
     "metadata": {},
     "output_type": "display_data"
    }
   ],
   "source": [
    "from tqdm import tqdm\n",
    "nrep=100\n",
    "method1=np.zeros(nrep)\n",
    "method2=np.zeros(nrep)\n",
    "method3=np.zeros(nrep)\n",
    "method4=np.zeros(nrep)\n",
    "for i in tqdm(range(100)):\n",
    "    method1[i]=kaimingv1(10)[1]\n",
    "    method2[i]=kaimingv2(10)[1]\n",
    "    method3[i]=kaimingv1(10,actfun=srelu)[1]\n",
    "    method4[i]=kaimingv2(10,actfun=srelu)[1]\n",
    "plt.boxplot([method1,method2,method3,method4]);\n",
    "plt.grid('on')\n",
    "plt.ylim([0,2])"
   ]
  },
  {
   "cell_type": "code",
   "execution_count": 823,
   "metadata": {},
   "outputs": [
    {
     "name": "stderr",
     "output_type": "stream",
     "text": [
      "100%|████████████████████████████████████████| 100/100 [00:17<00:00,  5.89it/s]\n"
     ]
    },
    {
     "data": {
      "text/plain": [
       "(0, 2)"
      ]
     },
     "execution_count": 823,
     "metadata": {},
     "output_type": "execute_result"
    },
    {
     "data": {
      "image/png": "[encoded data removed]",
      "text/plain": [
       "<Figure size 432x288 with 1 Axes>"
      ]
     },
     "metadata": {
      "needs_background": "light"
     },
     "output_type": "display_data"
    }
   ],
   "source": [
    "from tqdm import tqdm\n",
    "nrep=100\n",
    "method1=np.zeros(nrep)\n",
    "method2=np.zeros(nrep)\n",
    "for i in tqdm(range(100)):\n",
    "    method1[i]=kaimingv1(100)[0]\n",
    "    method2[i]=kaimingv2(100)[0]\n",
    "plt.boxplot([method1,method2]);\n",
    "plt.ylim([0,2])"
   ]
  }
 ],
 "metadata": {
  "kernelspec": {
   "display_name": "Python 3",
   "language": "python",
   "name": "python3"
  },
  "language_info": {
   "codemirror_mode": {
    "name": "ipython",
    "version": 3
   },
   "file_extension": ".py",
   "mimetype": "text/x-python",
   "name": "python",
   "nbconvert_exporter": "python",
   "pygments_lexer": "ipython3",
   "version": "3.6.1"
  }
 },
 "nbformat": 4,
 "nbformat_minor": 2
}
